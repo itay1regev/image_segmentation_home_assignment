{
 "cells": [
  {
   "cell_type": "markdown",
   "metadata": {
    "id": "QHid2CSEHv9V"
   },
   "source": [
    "# **Itay Regev | 203539119**"
   ]
  },
  {
   "cell_type": "markdown",
   "metadata": {
    "id": "MMdiUc0cHnYJ"
   },
   "source": [
    "# **Homework Assignment: Image Segmentation**"
   ]
  },
  {
   "cell_type": "code",
   "execution_count": null,
   "metadata": {
    "colab": {
     "base_uri": "https://localhost:8080/"
    },
    "id": "2-1Sq8srDlgw",
    "outputId": "853d4769-7208-4a2c-9c43-cb0509eb54c4"
   },
   "outputs": [],
   "source": [
    "from google.colab import drive\n",
    "drive.mount('/content/drive')"
   ]
  },
  {
   "cell_type": "markdown",
   "metadata": {
    "id": "gGupy6K-C9pz"
   },
   "source": [
    "## Download the data\n",
    "\n",
    "[Download](http://cocodataset.org/#download \"Download COCO\") the following files on to your PC."
   ]
  },
  {
   "cell_type": "markdown",
   "metadata": {
    "id": "UgWLlI1jC9p0"
   },
   "source": [
    "## Install and Import Required Libraries"
   ]
  },
  {
   "cell_type": "code",
   "execution_count": null,
   "metadata": {
    "id": "KI8WtNDaC9p0"
   },
   "outputs": [],
   "source": [
    "from pycocotools.coco import COCO\n",
    "import numpy as np\n",
    "import skimage.io as io\n",
    "import random\n",
    "import os\n",
    "import cv2\n",
    "from tensorflow.keras.preprocessing.image import ImageDataGenerator\n",
    "\n",
    "## For visualizing results\n",
    "import matplotlib.pyplot as plt\n",
    "import matplotlib.gridspec as gridspec\n",
    "%matplotlib inline"
   ]
  },
  {
   "cell_type": "markdown",
   "metadata": {
    "id": "PaN57hoFC9p1"
   },
   "source": [
    "## Dataset Exploration with PyCoCO"
   ]
  },
  {
   "cell_type": "code",
   "execution_count": null,
   "metadata": {
    "colab": {
     "base_uri": "https://localhost:8080/"
    },
    "id": "_JsrHgUSC9p1",
    "outputId": "92739e60-841d-43bc-d5cc-9769cb8ad2ce"
   },
   "outputs": [],
   "source": [
    "dataDir='./COCOdataset2017'\n",
    "dataType='val'\n",
    "annFile='{}/annotations/instances_{}.json'.format(dataDir,dataType)\n",
    "\n",
    "# # initialize the COCO api for instance annotations\n",
    "# coco=COCO(annFile)\n",
    "\n",
    "\n",
    "path_to_instances_val_json = \"/content/drive/MyDrive/HIT/שנה ב סמסטר ב/עיבוד תמונות ביו-רפואיות/תרגיל בית - להגשה/medium_tutorial/project folder/COCOdataset2017/annotations/instances_val.json\"\n",
    "\n",
    "# initialize the COCO api for instance annotations\n",
    "coco=COCO(path_to_instances_val_json)\n"
   ]
  },
  {
   "cell_type": "code",
   "execution_count": null,
   "metadata": {
    "colab": {
     "base_uri": "https://localhost:8080/"
    },
    "id": "yFeQOadoC9p2",
    "outputId": "44cdea51-ff3e-41a4-e617-1072d04ef5a1",
    "scrolled": true
   },
   "outputs": [],
   "source": [
    "# display COCO categories and supercategories\n",
    "catIDs = coco.getCatIds()\n",
    "cats = coco.loadCats(catIDs)\n",
    "\n",
    "nms_cats=[cat['name'] for cat in cats]\n",
    "print(nms_cats)\n",
    "print(len(nms_cats))\n",
    "# print(len(nms),'COCO categories: \\n{}\\n'.format(' '.join(nms)))\n",
    "\n",
    "nms = set([cat['supercategory'] for cat in cats])\n",
    "print(len(nms),'COCO supercategories: \\n{}'.format(' '.join(nms)))"
   ]
  },
  {
   "cell_type": "markdown",
   "metadata": {
    "id": "0lHgaAqPC9p3"
   },
   "source": [
    "### COCO Class Ids"
   ]
  },
  {
   "cell_type": "code",
   "execution_count": null,
   "metadata": {
    "colab": {
     "base_uri": "https://localhost:8080/"
    },
    "id": "Rw6RofbGC9p3",
    "outputId": "1f2befc8-4ba2-4fbe-b2f8-682b6317f553",
    "scrolled": true
   },
   "outputs": [],
   "source": [
    "category_names_lst = []\n",
    "category_ids_lst =[]\n",
    "for i in range(len(cats)):\n",
    "  category_names_lst.append(cats[i]['name'])\n",
    "  category_ids_lst.append(cats[i]['id'])\n",
    "\n",
    "print(category_names_lst)\n",
    "print(len(category_names_lst))\n",
    "print(len(category_ids_lst))"
   ]
  },
  {
   "cell_type": "code",
   "execution_count": null,
   "metadata": {
    "colab": {
     "base_uri": "https://localhost:8080/"
    },
    "id": "SWDX552pC9p3",
    "outputId": "e3294428-f808-4d83-c627-925cf6de0988"
   },
   "outputs": [],
   "source": [
    "cats = coco.loadCats(catIDs)\n",
    "\n",
    "def getClassName(classID, cats):\n",
    "    for i in range(len(cats)):\n",
    "      print(cats[i])\n",
    "      if cats[i]['id']==classID:\n",
    "            return cats[i]['name']\n",
    "    return \"None\"\n",
    "\n",
    "print('The class name is', getClassName(92, cats))"
   ]
  },
  {
   "cell_type": "markdown",
   "metadata": {
    "id": "XH2PIPJEC9p4"
   },
   "source": [
    "\n",
    "\n",
    "#### Class Filtering\n"
   ]
  },
  {
   "cell_type": "code",
   "execution_count": null,
   "metadata": {
    "colab": {
     "base_uri": "https://localhost:8080/"
    },
    "id": "e30WSI5JC9p4",
    "outputId": "da01a01f-79ce-4e5a-8683-9c300e4d145b"
   },
   "outputs": [],
   "source": [
    "# get all images containing given categories, select one at random\n",
    "filterClasses = category_names_lst\n",
    "catIds = coco.getCatIds(catNms=filterClasses);\n",
    "imgIds = coco.getImgIds(catIds=catIds);\n",
    "\n",
    "print(\"Number of images containing all required classes:\", len(imgIds))"
   ]
  },
  {
   "cell_type": "code",
   "execution_count": null,
   "metadata": {
    "colab": {
     "base_uri": "https://localhost:8080/"
    },
    "id": "zLWqGhKtRKIr",
    "outputId": "8eaa86a1-1a9d-4241-e94c-ea893a9c3597"
   },
   "outputs": [],
   "source": [
    "# Get images ids by category id.\n",
    "imgIds = coco.getImgIds(catIds=category_ids_lst[0]);\n",
    "print(\"images id of images that belogns to category {}:\".format(category_ids_lst[0]),imgIds)"
   ]
  },
  {
   "cell_type": "code",
   "execution_count": null,
   "metadata": {
    "colab": {
     "base_uri": "https://localhost:8080/"
    },
    "id": "M51tCwu2C9p5",
    "outputId": "0351af02-b404-4416-8633-b7bc6ad28b7e"
   },
   "outputs": [],
   "source": [
    "########## ALl POSSIBLE COMBINATIONS ########\n",
    "classes = ['laptop', 'tv', 'cell phone','banner', 'building-other', 'metal', 'pavement', 'road', 'sky-other', 'tree', 'other']\n",
    "\n",
    "images = []\n",
    "if classes!=None:\n",
    "    # iterate for each individual class in the list\n",
    "    for className in classes:\n",
    "        # get all images containing given class\n",
    "        catIds = coco.getCatIds(catNms=className)\n",
    "        imgIds = coco.getImgIds(catIds=catIds)\n",
    "        images += coco.loadImgs(imgIds)\n",
    "else:\n",
    "    imgIds = coco.getImgIds()\n",
    "    images = coco.loadImgs(imgIds)\n",
    "\n",
    "# Now, filter out the repeated images\n",
    "unique_images = []\n",
    "for i in range(len(images)):\n",
    "    if images[i] not in unique_images:\n",
    "        unique_images.append(images[i])\n",
    "\n",
    "dataset_size = len(unique_images)\n",
    "\n",
    "print(\"Number of images containing the filter classes:\", dataset_size)"
   ]
  },
  {
   "cell_type": "markdown",
   "metadata": {
    "id": "dUpQ8W1IC9p6"
   },
   "source": [
    "## Create out data generator"
   ]
  },
  {
   "cell_type": "code",
   "execution_count": null,
   "metadata": {
    "id": "CkpYL-0DC9p6"
   },
   "outputs": [],
   "source": [
    "def filterDataset(folder, classes=None, mode='train'):\n",
    "    # initialize COCO api for instance annotations\n",
    "    annFile = '{}/annotations/instances_{}.json'.format(folder, mode)\n",
    "    coco = COCO(annFile)\n",
    "\n",
    "    images = []\n",
    "    if classes!=None:\n",
    "        # iterate for each individual class in the list\n",
    "        for className in classes:\n",
    "            # get all images containing given categories\n",
    "            catIds = coco.getCatIds(catNms=className)\n",
    "            imgIds = coco.getImgIds(catIds=catIds)\n",
    "            images += coco.loadImgs(imgIds)\n",
    "\n",
    "    else:\n",
    "        imgIds = coco.getImgIds()\n",
    "        images = coco.loadImgs(imgIds)\n",
    "\n",
    "    # Now, filter out the repeated images\n",
    "    unique_images = []\n",
    "    for i in range(len(images)):\n",
    "        if images[i] not in unique_images:\n",
    "            unique_images.append(images[i])\n",
    "\n",
    "    random.shuffle(unique_images)\n",
    "    dataset_size = len(unique_images)\n",
    "\n",
    "    return unique_images, dataset_size, coco"
   ]
  },
  {
   "cell_type": "code",
   "execution_count": null,
   "metadata": {
    "colab": {
     "base_uri": "https://localhost:8080/"
    },
    "id": "VBhw9iugC9p6",
    "outputId": "f47215a9-a71d-42cb-e75e-e8f93680c380"
   },
   "outputs": [],
   "source": [
    "folder = \"/content/drive/MyDrive/HIT/שנה ב סמסטר ב/עיבוד תמונות ביו-רפואיות/תרגיל בית - להגשה/medium_tutorial/project folder/COCOdataset2017\"\n",
    "classes = category_names_lst\n",
    "mode = 'val'\n",
    "\n",
    "images, dataset_size, coco = filterDataset(folder, classes,  mode)"
   ]
  },
  {
   "cell_type": "code",
   "execution_count": null,
   "metadata": {
    "colab": {
     "base_uri": "https://localhost:8080/"
    },
    "id": "RHbGjrcMWPvp",
    "outputId": "88209ed2-4290-4f46-896d-6521d9cd5982"
   },
   "outputs": [],
   "source": [
    "# examine the first element in the list of images object - coco_url, file_name\n",
    "dict_image_0 = dict(images[0])\n",
    "print(dict_image_0['coco_url'])\n",
    "print(dict_image_0['file_name'])\n",
    "print(images[0])"
   ]
  },
  {
   "cell_type": "markdown",
   "metadata": {
    "id": "ZRCb0IS-C9p6"
   },
   "source": [
    "### Generate the Image and mask\n",
    "\n",
    "The dataGeneratorCoco function takes 8 inputs-   \n",
    "(a) **images**: the image list returned by the filterDataset function  \n",
    "(b) **classes**: the filter classes list  \n",
    "(c) **coco**: the coco object returned by the filterDataset function  \n",
    "(d) **folder**: the folder containing the dataset  \n",
    "(e) **input_image_size**: size of input image to your model (width, height)  \n",
    "(f) **batch_size**: batch size  \n",
    "(g) **mode**: 'train' or 'val'  \n",
    "(h) **mask_type**: 'binary' or 'normal'(classes can't be None)\n",
    "\n",
    "\n",
    "The function returns a data generator object yielding batches of images and their corresponding masks"
   ]
  },
  {
   "cell_type": "code",
   "execution_count": null,
   "metadata": {
    "id": "Gom0VH7vC9p6"
   },
   "outputs": [],
   "source": [
    "def getClassName(classID, cats):\n",
    "    for i in range(len(cats)):\n",
    "        if cats[i]['id']==classID:\n",
    "            return cats[i]['name']\n",
    "    return None\n",
    "\n",
    "def getImage(imageObj, img_folder, input_image_size):\n",
    "    # Read and normalize an image\n",
    "    train_img = io.imread(img_folder + '/' + imageObj['file_name'])/255.0\n",
    "    # Resize\n",
    "    train_img = cv2.resize(train_img, input_image_size)\n",
    "    if (len(train_img.shape)==3 and train_img.shape[2]==3): # If it is a RGB 3 channel image\n",
    "        return train_img\n",
    "    else: # To handle a black and white image, increase dimensions to 3\n",
    "        stacked_img = np.stack((train_img,)*3, axis=-1)\n",
    "        return stacked_img\n",
    "\n",
    "def getNormalMask(imageObj, classes, coco, catIds, input_image_size):\n",
    "    annIds = coco.getAnnIds(imageObj['id'], catIds=catIds, iscrowd=None)\n",
    "    anns = coco.loadAnns(annIds)\n",
    "    cats = coco.loadCats(catIds)\n",
    "    train_mask = np.zeros(input_image_size)\n",
    "    for a in range(len(anns)):\n",
    "        className = getClassName(anns[a]['category_id'], cats)\n",
    "        pixel_value = classes.index(className)+1\n",
    "        new_mask = cv2.resize(coco.annToMask(anns[a])*pixel_value, input_image_size)\n",
    "        train_mask = np.maximum(new_mask, train_mask)\n",
    "\n",
    "    # Add extra dimension for parity with train_img size [X * X * 3]\n",
    "    train_mask = train_mask.reshape(input_image_size[0], input_image_size[1], 1)\n",
    "    return train_mask\n",
    "\n",
    "def getBinaryMask(imageObj, coco, catIds, input_image_size):\n",
    "    annIds = coco.getAnnIds(imageObj['id'], catIds=catIds, iscrowd=None)\n",
    "    anns = coco.loadAnns(annIds)\n",
    "    train_mask = np.zeros(input_image_size)\n",
    "    for a in range(len(anns)):\n",
    "        new_mask = cv2.resize(coco.annToMask(anns[a]), input_image_size)\n",
    "\n",
    "        #Threshold because resizing may cause extraneous values\n",
    "        new_mask[new_mask >= 0.5] = 1\n",
    "        new_mask[new_mask < 0.5] = 0\n",
    "\n",
    "        train_mask = np.maximum(new_mask, train_mask)\n",
    "\n",
    "    # Add extra dimension for parity with train_img size [X * X * 3]\n",
    "    train_mask = train_mask.reshape(input_image_size[0], input_image_size[1], 1)\n",
    "    return train_mask\n",
    "\n",
    "\n",
    "def dataGeneratorCoco(images, classes, coco, folder,\n",
    "                      input_image_size=(224,224), batch_size=4, mode='train', mask_type='binary'):\n",
    "\n",
    "    img_folder = '{}/images/{}'.format(folder, mode)\n",
    "    dataset_size = len(images)\n",
    "    catIds = coco.getCatIds(catNms=classes)\n",
    "\n",
    "    c = 0\n",
    "    while(True):\n",
    "        img = np.zeros((batch_size, input_image_size[0], input_image_size[1], 3)).astype('float')\n",
    "        mask = np.zeros((batch_size, input_image_size[0], input_image_size[1], 1)).astype('float')\n",
    "\n",
    "        for i in range(c, c+batch_size): #initially from 0 to batch_size, when c = 0\n",
    "            imageObj = images[i]\n",
    "\n",
    "            ### Retrieve Image ###\n",
    "            train_img = getImage(imageObj, img_folder, input_image_size)\n",
    "\n",
    "            ### Create Mask ###\n",
    "            if mask_type==\"binary\":\n",
    "                train_mask = getBinaryMask(imageObj, coco, catIds, input_image_size)\n",
    "\n",
    "            elif mask_type==\"normal\":\n",
    "                train_mask = getNormalMask(imageObj, classes, coco, catIds, input_image_size)\n",
    "\n",
    "            # Add to respective batch sized arrays\n",
    "            img[i-c] = train_img\n",
    "            mask[i-c] = train_mask\n",
    "\n",
    "        c+=batch_size\n",
    "        if(c + batch_size >= dataset_size):\n",
    "            c=0\n",
    "            random.shuffle(images)\n",
    "        yield img, mask"
   ]
  },
  {
   "cell_type": "code",
   "execution_count": null,
   "metadata": {
    "id": "C4DhVA1cC9p7"
   },
   "outputs": [],
   "source": [
    "batch_size = 4\n",
    "input_image_size = (224,224)\n",
    "mask_type = 'normal'\n",
    "\n",
    "val_gen = dataGeneratorCoco(images, classes, coco, folder,\n",
    "                            input_image_size, batch_size, mode, mask_type)"
   ]
  },
  {
   "cell_type": "markdown",
   "metadata": {
    "id": "57u65s8cC9p7"
   },
   "source": [
    "Our generator is finally ready, let's define a function to visualize it."
   ]
  },
  {
   "cell_type": "code",
   "execution_count": null,
   "metadata": {
    "id": "Rc4drd0PC9p7"
   },
   "outputs": [],
   "source": [
    "def visualizeGenerator(gen):\n",
    "    img, mask = next(gen)\n",
    "\n",
    "    fig = plt.figure(figsize=(20, 10))\n",
    "    outerGrid = gridspec.GridSpec(1, 2, wspace=0.1, hspace=0.1)\n",
    "\n",
    "    for i in range(2):\n",
    "        innerGrid = gridspec.GridSpecFromSubplotSpec(2, 2,\n",
    "                        subplot_spec=outerGrid[i], wspace=0.05, hspace=0.05)\n",
    "\n",
    "        for j in range(4):\n",
    "            ax = plt.Subplot(fig, innerGrid[j])\n",
    "            if(i==1):\n",
    "                ax.imshow(img[j])\n",
    "            else:\n",
    "                ax.imshow(mask[j][:,:,0])\n",
    "\n",
    "            ax.axis('off')\n",
    "            fig.add_subplot(ax)\n",
    "    plt.show()"
   ]
  },
  {
   "cell_type": "markdown",
   "metadata": {
    "id": "pe5oyMS3vqBe"
   },
   "source": [
    "## Thresholding"
   ]
  },
  {
   "cell_type": "code",
   "execution_count": null,
   "metadata": {
    "colab": {
     "base_uri": "https://localhost:8080/",
     "height": 1000
    },
    "id": "Aq9DyBFxtS2l",
    "outputId": "aebafdf7-442c-4ef7-9427-94a598ce485d"
   },
   "outputs": [],
   "source": [
    "import numpy as np\n",
    "import cv2\n",
    "import matplotlib.pyplot as plt\n",
    "import pandas as pd\n",
    "\n",
    "# Initialize lists for predictions, images, and masks\n",
    "pred_lst = []\n",
    "img_lst = []\n",
    "mask_lst = []\n",
    "\n",
    "# Initialize lists to store metrics\n",
    "jaccard_indices = []\n",
    "precisions = []\n",
    "recalls = []\n",
    "f1_scores = []\n",
    "\n",
    "# 141\n",
    "for i in range(25):\n",
    "    img, mask = next(val_gen)\n",
    "    img_lst.append(img)\n",
    "    mask_lst.append(mask)\n",
    "\n",
    "    for j in range(img.shape[0]):  # Iterate through each image in the batch\n",
    "        cur_image = img[j]\n",
    "\n",
    "        # Convert the image to uint8 if it's not already\n",
    "        if cur_image.dtype != np.uint8:\n",
    "            cur_image = (cur_image * 255).astype(np.uint8)\n",
    "\n",
    "        # Convert each image to grayscale\n",
    "        gray_cur_image = cv2.cvtColor(cur_image, cv2.COLOR_BGR2GRAY)\n",
    "\n",
    "        # Apply a threshold\n",
    "        threshold_value = 128\n",
    "        _, binary_image = cv2.threshold(gray_cur_image, threshold_value, 255, cv2.THRESH_BINARY)\n",
    "\n",
    "        pred_lst.append(binary_image)\n",
    "\n",
    "print(\"len image list - batch of 4 images\",len(img_lst))\n",
    "print(\"len mask list - batch of 4 images\",len(mask_lst))\n",
    "print(\"len pred list\",len(pred_lst))\n",
    "\n",
    "def compute_metrics(true_mask, pred_mask):\n",
    "    # Flatten the masks\n",
    "    true_mask = true_mask.flatten()\n",
    "    pred_mask = pred_mask.flatten()\n",
    "\n",
    "    # Compute Dice Coefficient\n",
    "    intersection = np.sum(true_mask * pred_mask)\n",
    "\n",
    "    # Compute Jaccard Index (Intersection over Union)\n",
    "    jaccard_index = np.sum(np.logical_and(true_mask, pred_mask)) / np.sum(np.logical_or(true_mask, pred_mask))\n",
    "\n",
    "    # Compute Precision\n",
    "    precision = np.sum(np.logical_and(true_mask, pred_mask)) / np.sum(pred_mask)\n",
    "\n",
    "    # Compute Recall\n",
    "    recall = np.sum(np.logical_and(true_mask, pred_mask)) / np.sum(true_mask)\n",
    "\n",
    "    # Compute F-measure (F1 Score)\n",
    "    f1 = 2 * (precision * recall) / (precision + recall)\n",
    "\n",
    "    return jaccard_index, precision, recall, f1\n",
    "\n",
    "# Extracting the first slice of the image, mask, and prediction\n",
    "counter_images = 0\n",
    "for i in range(25):\n",
    "    for j in range(img_lst[i].shape[0]):  # Iterate through each image in the batch\n",
    "        image = img_lst[i][j]  # Selecting the image slice\n",
    "        mask_0 = mask_lst[i][j][:,:,0]  # True mask\n",
    "        pred_0 = pred_lst[counter_images]  # Predicted mask\n",
    "\n",
    "        # Compute the metrics\n",
    "        jaccard, precision, recall, f1 = compute_metrics(mask_0, pred_0)\n",
    "\n",
    "        # Append metrics to the lists\n",
    "\n",
    "        if jaccard is None:\n",
    "          jaccard = 0\n",
    "        if precision is None:\n",
    "          precision = 0\n",
    "        if recall is None:\n",
    "          recall = 0\n",
    "        if f1 is None:\n",
    "          f1 = 0\n",
    "\n",
    "        jaccard_indices.append(jaccard)\n",
    "        precisions.append(precision)\n",
    "        recalls.append(recall)\n",
    "        f1_scores.append(f1)\n",
    "\n",
    "        print(f'Image {counter_images + 1}:')\n",
    "        print(f'Jaccard Index: {jaccard:.4f}')\n",
    "        print(f'Precision: {precision:.4f}')\n",
    "        print(f'Recall: {recall:.4f}')\n",
    "        print(f'F-measure: {f1:.4f}')\n",
    "        print('---------------------------')\n",
    "\n",
    "        # Plotting\n",
    "        fig, axes = plt.subplots(1, 3, figsize=(18, 6))\n",
    "\n",
    "        # Displaying the image\n",
    "        axes[0].imshow(image)\n",
    "        axes[0].set_title('Image')\n",
    "        axes[0].axis('off')\n",
    "\n",
    "        # Displaying the true mask\n",
    "        axes[1].imshow(mask_0, cmap='gray')\n",
    "        axes[1].set_title('True Mask')\n",
    "        axes[1].axis('off')\n",
    "\n",
    "        # Displaying the predicted mask\n",
    "        axes[2].imshow(pred_0, cmap='gray')\n",
    "        axes[2].set_title('Predicted Mask')\n",
    "        axes[2].axis('off')\n",
    "\n",
    "        plt.show()\n",
    "\n",
    "        counter_images += 1\n",
    "\n",
    "\n",
    "# Compute average metrics\n",
    "average_jaccard = np.mean(jaccard_indices)\n",
    "average_precision = np.mean(precisions)\n",
    "average_recall = np.mean(recalls)\n",
    "average_f1 = np.mean(f1_scores)\n",
    "\n",
    "# Create a DataFrame to store the results\n",
    "results = pd.DataFrame({\n",
    "    'Metric': ['Jaccard Index', 'Precision', 'Recall', 'F-measure'],\n",
    "    'Average Value': [average_jaccard, average_precision, average_recall, average_f1]\n",
    "})\n",
    "\n"
   ]
  },
  {
   "cell_type": "code",
   "execution_count": null,
   "metadata": {
    "colab": {
     "base_uri": "https://localhost:8080/"
    },
    "id": "0esD8fiozB1K",
    "outputId": "9d58d4be-1e22-4d8f-a8eb-e0a938b43502"
   },
   "outputs": [],
   "source": [
    "\n",
    "print(\"Thresholding results\", \"\\n\", results)"
   ]
  },
  {
   "cell_type": "markdown",
   "metadata": {
    "id": "AzflLO04z-00"
   },
   "source": [
    "## Edge-based segmentation"
   ]
  },
  {
   "cell_type": "code",
   "execution_count": null,
   "metadata": {
    "colab": {
     "base_uri": "https://localhost:8080/",
     "height": 1000
    },
    "id": "4nY8flMM0Bup",
    "outputId": "91b0a4f9-c421-41d1-99c9-4649288c1e9e"
   },
   "outputs": [],
   "source": [
    "import numpy as np\n",
    "import cv2\n",
    "import matplotlib.pyplot as plt\n",
    "import pandas as pd\n",
    "\n",
    "# Initialize lists for predictions, images, and masks\n",
    "pred_lst = []\n",
    "img_lst = []\n",
    "mask_lst = []\n",
    "\n",
    "# Initialize lists to store metrics\n",
    "jaccard_indices = []\n",
    "precisions = []\n",
    "recalls = []\n",
    "f1_scores = []\n",
    "\n",
    "# 141\n",
    "for i in range(25):\n",
    "    img, mask = next(val_gen)\n",
    "    img_lst.append(img)\n",
    "    mask_lst.append(mask)\n",
    "\n",
    "    for j in range(img.shape[0]):  # Iterate through each image in the batch\n",
    "        cur_image = img[j]\n",
    "\n",
    "        # Convert the image to uint8 if it's not already\n",
    "        if cur_image.dtype != np.uint8:\n",
    "            cur_image = (cur_image * 255).astype(np.uint8)\n",
    "\n",
    "        # Convert each image to grayscale\n",
    "        gray_cur_image = cv2.cvtColor(cur_image, cv2.COLOR_BGR2GRAY)\n",
    "\n",
    "        # Apply Canny edge detection for edge-based segmentation\n",
    "        edges = cv2.Canny(gray_cur_image, 100, 200)\n",
    "\n",
    "        pred_lst.append(edges)\n",
    "\n",
    "print(\"len image list - batch of 4 images\", len(img_lst))\n",
    "print(\"len mask list - batch of 4 images\", len(mask_lst))\n",
    "print(\"len pred list\", len(pred_lst))\n",
    "\n",
    "def compute_metrics(true_mask, pred_mask):\n",
    "    # Flatten the masks\n",
    "    true_mask = true_mask.flatten()\n",
    "    pred_mask = pred_mask.flatten()\n",
    "\n",
    "\n",
    "\n",
    "    # Compute Jaccard Index (Intersection over Union)\n",
    "    jaccard_index = np.sum(np.logical_and(true_mask, pred_mask)) / np.sum(np.logical_or(true_mask, pred_mask))\n",
    "\n",
    "    # Compute Precision\n",
    "    precision = np.sum(np.logical_and(true_mask, pred_mask)) / np.sum(pred_mask)\n",
    "\n",
    "    # Compute Recall\n",
    "    recall = np.sum(np.logical_and(true_mask, pred_mask)) / np.sum(true_mask)\n",
    "\n",
    "    # Compute F-measure (F1 Score)\n",
    "    f1 = 2 * (precision * recall) / (precision + recall)\n",
    "\n",
    "    return jaccard_index, precision, recall, f1\n",
    "\n",
    "# Extracting the first slice of the image, mask, and prediction\n",
    "counter_images = 0\n",
    "for i in range(25):\n",
    "    for j in range(img_lst[i].shape[0]):  # Iterate through each image in the batch\n",
    "        image = img_lst[i][j]  # Selecting the image slice\n",
    "        mask_0 = mask_lst[i][j][:,:,0]  # True mask\n",
    "        pred_0 = pred_lst[counter_images]  # Predicted mask\n",
    "\n",
    "        # Compute the metrics\n",
    "        jaccard, precision, recall, f1 = compute_metrics(mask_0, pred_0)\n",
    "\n",
    "\n",
    "        if jaccard is None:\n",
    "          jaccard = 0\n",
    "        if precision is None:\n",
    "          precision = 0\n",
    "        if recall is None:\n",
    "          recall = 0\n",
    "        if f1 is None:\n",
    "          f1 = 0\n",
    "\n",
    "        # Append metrics to the lists\n",
    "        jaccard_indices.append(jaccard)\n",
    "        precisions.append(precision)\n",
    "        recalls.append(recall)\n",
    "        f1_scores.append(f1)\n",
    "\n",
    "        print(f'Image {counter_images + 1}:')\n",
    "\n",
    "        print(f'Jaccard Index: {jaccard:.4f}')\n",
    "        print(f'Precision: {precision:.4f}')\n",
    "        print(f'Recall: {recall:.4f}')\n",
    "        print(f'F-measure: {f1:.4f}')\n",
    "        print('---------------------------')\n",
    "\n",
    "        # Plotting\n",
    "        fig, axes = plt.subplots(1, 3, figsize=(18, 6))\n",
    "\n",
    "        # Displaying the image\n",
    "        axes[0].imshow(image)\n",
    "        axes[0].set_title('Image')\n",
    "        axes[0].axis('off')\n",
    "\n",
    "        # Displaying the true mask\n",
    "        axes[1].imshow(mask_0, cmap='gray')\n",
    "        axes[1].set_title('True Mask')\n",
    "        axes[1].axis('off')\n",
    "\n",
    "        # Displaying the predicted mask\n",
    "        axes[2].imshow(pred_0, cmap='gray')\n",
    "        axes[2].set_title('Predicted Mask')\n",
    "        axes[2].axis('off')\n",
    "\n",
    "        plt.show()\n",
    "\n",
    "        counter_images += 1\n",
    "\n",
    "# Compute average metrics\n",
    "average_jaccard = np.mean(jaccard_indices)\n",
    "average_precision = np.mean(precisions)\n",
    "average_recall = np.mean(recalls)\n",
    "average_f1 = np.mean(f1_scores)\n",
    "\n",
    "# Create a DataFrame to store the results\n",
    "results = pd.DataFrame({\n",
    "    'Metric': ['Jaccard Index', 'Precision', 'Recall', 'F-measure'],\n",
    "    'Average Value': [average_jaccard, average_precision, average_recall, average_f1]\n",
    "})\n",
    "\n"
   ]
  },
  {
   "cell_type": "code",
   "execution_count": null,
   "metadata": {
    "colab": {
     "base_uri": "https://localhost:8080/"
    },
    "id": "ZlYCIGxw036W",
    "outputId": "eb7237a7-61ed-4683-c04a-9b365a491890"
   },
   "outputs": [],
   "source": [
    "print(\"results - edge-based segmentation\", \"\\n\", results)"
   ]
  },
  {
   "cell_type": "markdown",
   "metadata": {
    "id": "-oSknvUZ19_z"
   },
   "source": [
    "## Clustering-based image segmentation using K-Means"
   ]
  },
  {
   "cell_type": "code",
   "execution_count": null,
   "metadata": {
    "colab": {
     "base_uri": "https://localhost:8080/",
     "height": 1000
    },
    "id": "K-bmlE9m2GUW",
    "outputId": "83e3b85f-564f-4cf9-96d8-73abdc941ca4"
   },
   "outputs": [],
   "source": [
    "import numpy as np\n",
    "import cv2\n",
    "import matplotlib.pyplot as plt\n",
    "import pandas as pd\n",
    "from sklearn.cluster import KMeans\n",
    "\n",
    "# Initialize lists for predictions, images, and masks\n",
    "pred_lst = []\n",
    "img_lst = []\n",
    "mask_lst = []\n",
    "\n",
    "# Initialize lists to store metrics\n",
    "jaccard_indices = []\n",
    "precisions = []\n",
    "recalls = []\n",
    "f1_scores = []\n",
    "\n",
    "# 141\n",
    "for i in range(25):\n",
    "    img, mask = next(val_gen)\n",
    "    img_lst.append(img)\n",
    "    mask_lst.append(mask)\n",
    "\n",
    "    for j in range(img.shape[0]):  # Iterate through each image in the batch\n",
    "        cur_image = img[j]\n",
    "\n",
    "        # Convert the image to uint8 if it's not already\n",
    "        if cur_image.dtype != np.uint8:\n",
    "            cur_image = (cur_image * 255).astype(np.uint8)\n",
    "\n",
    "        # Convert each image to grayscale\n",
    "        gray_cur_image = cv2.cvtColor(cur_image, cv2.COLOR_BGR2GRAY)\n",
    "\n",
    "        # Reshape the image to a 2D array of pixels\n",
    "        pixel_values = gray_cur_image.reshape((-1, 1))\n",
    "        pixel_values = np.float32(pixel_values)\n",
    "\n",
    "        # Define criteria and apply KMeans\n",
    "        k = 2  # Number of clusters\n",
    "        kmeans = KMeans(n_clusters=k, random_state=0)\n",
    "        kmeans.fit(pixel_values)\n",
    "\n",
    "        # Convert the labels to an image\n",
    "        segmented_image = kmeans.labels_.reshape(gray_cur_image.shape)\n",
    "\n",
    "        # Threshold the segmented image to get binary mask\n",
    "        pred_mask = np.where(segmented_image == 1, 255, 0).astype(np.uint8)\n",
    "\n",
    "        pred_lst.append(pred_mask)\n",
    "\n",
    "print(\"len image list - batch of 4 images\", len(img_lst))\n",
    "print(\"len mask list - batch of 4 images\", len(mask_lst))\n",
    "print(\"len pred list\", len(pred_lst))\n",
    "\n",
    "def compute_metrics(true_mask, pred_mask):\n",
    "    # Flatten the masks\n",
    "    true_mask = true_mask.flatten()\n",
    "    pred_mask = pred_mask.flatten()\n",
    "\n",
    "\n",
    "    # Compute Jaccard Index (Intersection over Union)\n",
    "    jaccard_index = np.sum(np.logical_and(true_mask, pred_mask)) / np.sum(np.logical_or(true_mask, pred_mask))\n",
    "\n",
    "    # Compute Precision\n",
    "    precision = np.sum(np.logical_and(true_mask, pred_mask)) / np.sum(pred_mask)\n",
    "\n",
    "    # Compute Recall\n",
    "    recall = np.sum(np.logical_and(true_mask, pred_mask)) / np.sum(true_mask)\n",
    "\n",
    "    # Compute F-measure (F1 Score)\n",
    "    f1 = 2 * (precision * recall) / (precision + recall)\n",
    "\n",
    "    return jaccard_index, precision, recall, f1\n",
    "\n",
    "# Extracting the first slice of the image, mask, and prediction\n",
    "counter_images = 0\n",
    "for i in range(25):\n",
    "    for j in range(img_lst[i].shape[0]):  # Iterate through each image in the batch\n",
    "        image = img_lst[i][j]  # Selecting the image slice\n",
    "        mask_0 = mask_lst[i][j][:,:,0]  # True mask\n",
    "        pred_0 = pred_lst[counter_images]  # Predicted mask\n",
    "\n",
    "        # Compute the metrics\n",
    "        jaccard, precision, recall, f1 = compute_metrics(mask_0, pred_0)\n",
    "\n",
    "\n",
    "        if jaccard is None:\n",
    "          jaccard = 0\n",
    "        if precision is None:\n",
    "          precision = 0\n",
    "        if recall is None:\n",
    "          recall = 0\n",
    "        if f1 is None:\n",
    "          f1 = 0\n",
    "\n",
    "        # Append metrics to the lists\n",
    "        jaccard_indices.append(jaccard)\n",
    "        precisions.append(precision)\n",
    "        recalls.append(recall)\n",
    "        f1_scores.append(f1)\n",
    "\n",
    "        print(f'Image {counter_images + 1}:')\n",
    "\n",
    "        print(f'Jaccard Index: {jaccard:.4f}')\n",
    "        print(f'Precision: {precision:.4f}')\n",
    "        print(f'Recall: {recall:.4f}')\n",
    "        print(f'F-measure: {f1:.4f}')\n",
    "        print('---------------------------')\n",
    "\n",
    "        # Plotting\n",
    "        fig, axes = plt.subplots(1, 3, figsize=(18, 6))\n",
    "\n",
    "        # Displaying the image\n",
    "        axes[0].imshow(image)\n",
    "        axes[0].set_title('Image')\n",
    "        axes[0].axis('off')\n",
    "\n",
    "        # Displaying the true mask\n",
    "        axes[1].imshow(mask_0, cmap='gray')\n",
    "        axes[1].set_title('True Mask')\n",
    "        axes[1].axis('off')\n",
    "\n",
    "        # Displaying the predicted mask\n",
    "        axes[2].imshow(pred_0, cmap='gray')\n",
    "        axes[2].set_title('Predicted Mask')\n",
    "        axes[2].axis('off')\n",
    "\n",
    "        plt.show()\n",
    "\n",
    "        counter_images += 1\n",
    "\n",
    "# Compute average metrics\n",
    "\n",
    "average_jaccard = np.mean(jaccard_indices)\n",
    "average_precision = np.mean(precisions)\n",
    "average_recall = np.mean(recalls)\n",
    "average_f1 = np.mean(f1_scores)\n",
    "\n",
    "# Create a DataFrame to store the results\n",
    "results = pd.DataFrame({\n",
    "    'Metric': ['Jaccard Index', 'Precision', 'Recall', 'F-measure'],\n",
    "    'Average Value': [average_jaccard, average_precision, average_recall, average_f1]\n",
    "})\n",
    "\n",
    "# Save the results to a CSV file\n",
    "results.to_csv('result_kmeans.csv', index=False)\n",
    "\n",
    "print(\"Results saved to result_kmeans.csv\")\n"
   ]
  },
  {
   "cell_type": "code",
   "execution_count": null,
   "metadata": {
    "colab": {
     "base_uri": "https://localhost:8080/"
    },
    "id": "f3r4oqU42d2P",
    "outputId": "5a30b161-1a99-4d2d-e22e-f8193b5911d6"
   },
   "outputs": [],
   "source": [
    "print(\"results kmeans\", \"\\n\", results)"
   ]
  },
  {
   "cell_type": "markdown",
   "metadata": {
    "id": "2EVeeCK_4wva"
   },
   "source": [
    "## Clustering-based image segmentation using mean-shift"
   ]
  },
  {
   "cell_type": "code",
   "execution_count": null,
   "metadata": {
    "colab": {
     "base_uri": "https://localhost:8080/",
     "height": 1000
    },
    "id": "FZQlkjm94y4H",
    "outputId": "f8285eae-cd98-4bb3-c7be-9136c68e2ab3"
   },
   "outputs": [],
   "source": [
    "import numpy as np\n",
    "import cv2\n",
    "import matplotlib.pyplot as plt\n",
    "import pandas as pd\n",
    "\n",
    "# Initialize lists for predictions, images, and masks\n",
    "pred_lst = []\n",
    "img_lst = []\n",
    "mask_lst = []\n",
    "\n",
    "# Initialize lists to store metrics\n",
    "jaccard_indices = []\n",
    "precisions = []\n",
    "recalls = []\n",
    "f1_scores = []\n",
    "\n",
    "# 141\n",
    "for i in range(25):\n",
    "    img, mask = next(val_gen)\n",
    "    img_lst.append(img)\n",
    "    mask_lst.append(mask)\n",
    "\n",
    "    for j in range(img.shape[0]):  # Iterate through each image in the batch\n",
    "        cur_image = img[j]\n",
    "\n",
    "        # Convert the image to uint8 if it's not already\n",
    "        if cur_image.dtype != np.uint8:\n",
    "            cur_image = (cur_image * 255).astype(np.uint8)\n",
    "\n",
    "        # Convert each image to grayscale\n",
    "        gray_cur_image = cv2.cvtColor(cur_image, cv2.COLOR_BGR2GRAY)\n",
    "\n",
    "        # Apply Mean Shift algorithm for segmentation\n",
    "        # Convert the image to the correct format\n",
    "        shifted = cv2.pyrMeanShiftFiltering(cur_image, sp=21, sr=51)\n",
    "\n",
    "        # Convert the mean-shifted image to grayscale\n",
    "        gray_shifted = cv2.cvtColor(shifted, cv2.COLOR_BGR2GRAY)\n",
    "\n",
    "        # Apply a threshold to get a binary mask\n",
    "        _, binary_image = cv2.threshold(gray_shifted, 0, 255, cv2.THRESH_BINARY + cv2.THRESH_OTSU)\n",
    "\n",
    "        pred_lst.append(binary_image)\n",
    "\n",
    "print(\"len image list - batch of 4 images\", len(img_lst))\n",
    "print(\"len mask list - batch of 4 images\", len(mask_lst))\n",
    "print(\"len pred list\", len(pred_lst))\n",
    "\n",
    "def compute_metrics(true_mask, pred_mask):\n",
    "    # Flatten the masks\n",
    "    true_mask = true_mask.flatten()\n",
    "    pred_mask = pred_mask.flatten()\n",
    "\n",
    "\n",
    "    # Compute Jaccard Index (Intersection over Union)\n",
    "    jaccard_index = np.sum(np.logical_and(true_mask, pred_mask)) / np.sum(np.logical_or(true_mask, pred_mask))\n",
    "\n",
    "    # Compute Precision\n",
    "    precision = np.sum(np.logical_and(true_mask, pred_mask)) / np.sum(pred_mask)\n",
    "\n",
    "    # Compute Recall\n",
    "    recall = np.sum(np.logical_and(true_mask, pred_mask)) / np.sum(true_mask)\n",
    "\n",
    "    # Compute F-measure (F1 Score)\n",
    "    f1 = 2 * (precision * recall) / (precision + recall)\n",
    "\n",
    "    return jaccard_index, precision, recall, f1\n",
    "\n",
    "# Extracting the first slice of the image, mask, and prediction\n",
    "counter_images = 0\n",
    "for i in range(25):\n",
    "    for j in range(img_lst[i].shape[0]):  # Iterate through each image in the batch\n",
    "        image = img_lst[i][j]  # Selecting the image slice\n",
    "        mask_0 = mask_lst[i][j][:,:,0]  # True mask\n",
    "        pred_0 = pred_lst[counter_images]  # Predicted mask\n",
    "\n",
    "        # Compute the metrics\n",
    "        jaccard, precision, recall, f1 = compute_metrics(mask_0, pred_0)\n",
    "\n",
    "\n",
    "        if jaccard is None:\n",
    "          jaccard = 0\n",
    "        if precision is None:\n",
    "          precision = 0\n",
    "        if recall is None:\n",
    "          recall = 0\n",
    "        if f1 is None:\n",
    "          f1 = 0\n",
    "\n",
    "        # Append metrics to the lists\n",
    "\n",
    "        jaccard_indices.append(jaccard)\n",
    "        precisions.append(precision)\n",
    "        recalls.append(recall)\n",
    "        f1_scores.append(f1)\n",
    "\n",
    "        print(f'Image {counter_images + 1}:')\n",
    "\n",
    "        print(f'Jaccard Index: {jaccard:.4f}')\n",
    "        print(f'Precision: {precision:.4f}')\n",
    "        print(f'Recall: {recall:.4f}')\n",
    "        print(f'F-measure: {f1:.4f}')\n",
    "        print('---------------------------')\n",
    "\n",
    "        # Plotting\n",
    "        fig, axes = plt.subplots(1, 3, figsize=(18, 6))\n",
    "\n",
    "        # Displaying the image\n",
    "        axes[0].imshow(image)\n",
    "        axes[0].set_title('Image')\n",
    "        axes[0].axis('off')\n",
    "\n",
    "        # Displaying the true mask\n",
    "        axes[1].imshow(mask_0, cmap='gray')\n",
    "        axes[1].set_title('True Mask')\n",
    "        axes[1].axis('off')\n",
    "\n",
    "        # Displaying the predicted mask\n",
    "        axes[2].imshow(pred_0, cmap='gray')\n",
    "        axes[2].set_title('Predicted Mask')\n",
    "        axes[2].axis('off')\n",
    "\n",
    "        plt.show()\n",
    "\n",
    "        counter_images += 1\n",
    "\n",
    "# Compute average metrics\n",
    "\n",
    "average_jaccard = np.mean(jaccard_indices)\n",
    "average_precision = np.mean(precisions)\n",
    "average_recall = np.mean(recalls)\n",
    "average_f1 = np.mean(f1_scores)\n",
    "\n",
    "# Create a DataFrame to store the results\n",
    "results = pd.DataFrame({\n",
    "    'Metric': ['Jaccard Index', 'Precision', 'Recall', 'F-measure'],\n",
    "    'Average Value': [average_jaccard, average_precision, average_recall, average_f1]\n",
    "})\n",
    "\n",
    "# Save the results to a CSV file\n",
    "results.to_csv('result_mean-shift.csv', index=False)\n",
    "\n",
    "print(\"Results saved to result_mean-shift.csv\")\n"
   ]
  },
  {
   "cell_type": "code",
   "execution_count": null,
   "metadata": {
    "colab": {
     "base_uri": "https://localhost:8080/"
    },
    "id": "X3Itt8IY4z-S",
    "outputId": "f5933d19-feea-440e-da2e-3107ca10047f"
   },
   "outputs": [],
   "source": [
    "print(\"results mean-shift\", \"\\n\", results)"
   ]
  }
 ],
 "metadata": {
  "accelerator": "GPU",
  "colab": {
   "gpuType": "T4",
   "machine_shape": "hm",
   "provenance": []
  },
  "kernelspec": {
   "display_name": "Python 3",
   "language": "python",
   "name": "python3"
  },
  "language_info": {
   "codemirror_mode": {
    "name": "ipython",
    "version": 3
   },
   "file_extension": ".py",
   "mimetype": "text/x-python",
   "name": "python",
   "nbconvert_exporter": "python",
   "pygments_lexer": "ipython3",
   "version": "3.8.5"
  }
 },
 "nbformat": 4,
 "nbformat_minor": 1
}
